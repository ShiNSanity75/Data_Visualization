{
 "cells": [
  {
   "cell_type": "markdown",
   "metadata": {},
   "source": [
    "# 溫度與捷運運輸量的相關性\n",
    "\n",
    "資料來源:https://data.gov.tw/dataset/61797\n",
    "https://www.cwb.gov.tw/\n",
    "\n",
    "主要想探討溫度與捷運運輸量之間是否有出現相關性。"
   ]
  },
  {
   "cell_type": "markdown",
   "metadata": {},
   "source": [
    "#讀取2017年每月份的捷運運輸量\n",
    " Month 為月份\n",
    " Average transport amout 為每月份總運輸量的平均值\n",
    " temperature為2017年月均溫"
   ]
  },
  {
   "cell_type": "code",
   "execution_count": 61,
   "metadata": {
    "scrolled": false
   },
   "outputs": [
    {
     "data": {
      "text/html": [
       "<div>\n",
       "<style scoped>\n",
       "    .dataframe tbody tr th:only-of-type {\n",
       "        vertical-align: middle;\n",
       "    }\n",
       "\n",
       "    .dataframe tbody tr th {\n",
       "        vertical-align: top;\n",
       "    }\n",
       "\n",
       "    .dataframe thead th {\n",
       "        text-align: right;\n",
       "    }\n",
       "</style>\n",
       "<table border=\"1\" class=\"dataframe\">\n",
       "  <thead>\n",
       "    <tr style=\"text-align: right;\">\n",
       "      <th></th>\n",
       "      <th>Month</th>\n",
       "      <th>Average Transport Amount (people)</th>\n",
       "      <th>temperature</th>\n",
       "    </tr>\n",
       "  </thead>\n",
       "  <tbody>\n",
       "    <tr>\n",
       "      <th>0</th>\n",
       "      <td>1</td>\n",
       "      <td>1936615</td>\n",
       "      <td>18.3</td>\n",
       "    </tr>\n",
       "    <tr>\n",
       "      <th>1</th>\n",
       "      <td>2</td>\n",
       "      <td>2046706</td>\n",
       "      <td>17.0</td>\n",
       "    </tr>\n",
       "    <tr>\n",
       "      <th>2</th>\n",
       "      <td>3</td>\n",
       "      <td>2122548</td>\n",
       "      <td>18.2</td>\n",
       "    </tr>\n",
       "    <tr>\n",
       "      <th>3</th>\n",
       "      <td>4</td>\n",
       "      <td>2034486</td>\n",
       "      <td>22.5</td>\n",
       "    </tr>\n",
       "    <tr>\n",
       "      <th>4</th>\n",
       "      <td>5</td>\n",
       "      <td>2010690</td>\n",
       "      <td>25.6</td>\n",
       "    </tr>\n",
       "  </tbody>\n",
       "</table>\n",
       "</div>"
      ],
      "text/plain": [
       "   Month  Average Transport Amount (people)  temperature\n",
       "0      1                            1936615         18.3\n",
       "1      2                            2046706         17.0\n",
       "2      3                            2122548         18.2\n",
       "3      4                            2034486         22.5\n",
       "4      5                            2010690         25.6"
      ]
     },
     "execution_count": 61,
     "metadata": {},
     "output_type": "execute_result"
    }
   ],
   "source": [
    "%matplotlib inline\n",
    "import matplotlib.pyplot as plt\n",
    "import pandas as pd\n",
    "import numpy as np\n",
    "import scipy.stats as stats\n",
    "\n",
    "# This is a custom matplotlib style that I use for most of my charts\n",
    "#plt.style.use('https://gist.githubusercontent.com/rhiever/d0a7332fe0beebfdc3d5/raw/205e477cf231330fe2f265070f7c37982fd3130c/tableau10.mplstyle')\n",
    "\n",
    "MRT_AVG = pd.read_csv('2017MRT_month.csv')\n",
    "MRT_AVG.head()\n"
   ]
  },
  {
   "cell_type": "code",
   "execution_count": 48,
   "metadata": {
    "scrolled": true
   },
   "outputs": [
    {
     "data": {
      "text/plain": [
       "''"
      ]
     },
     "execution_count": 48,
     "metadata": {},
     "output_type": "execute_result"
    },
    {
     "data": {
      "image/png": "[encoded data removed]",
      "text/plain": [
       "<Figure size 864x288 with 1 Axes>"
      ]
     },
     "metadata": {},
     "output_type": "display_data"
    }
   ],
   "source": [
    "fig = plt.figure(figsize=(12, 4))\n",
    "ax1 = fig.add_subplot(111)\n",
    "\n",
    "for (i, row) in MRT_AVG.iterrows():\n",
    "    plt.bar([i - 0.2, i + 0.2], [row['Average Transport Amount (people)']],\n",
    "            color=['#009FCC'], width=0.4, align='center', edgecolor='none')\n",
    "    \n",
    "#plt.xlim(-0.6, 20.6)\n",
    "plt.xticks(range(0, 12), MRT_AVG['Month'], fontsize=11)\n",
    "plt.grid(False, axis='x')\n",
    "plt.yticks(np.arange(0, 3e6, 1e6),\n",
    "           ['{}m'.format(int(x / 1e6)) if x > 0 else 0 for x in np.arange(0, 3e6, 1e6)])\n",
    "\n",
    "for x,y in enumerate(MRT_AVG['Average Transport Amount (people)']):\n",
    "\n",
    "    plt.text(x, y+0.05, '%.0f' % y, ha='center', va= 'bottom',fontsize=11)\n",
    "\n",
    "plt.xlabel('Month')\n",
    "plt.ylabel('Average Transport Amount (people)')\n",
    "\n",
    "plt.savefig('pop_pyramid_grouped.pdf')\n",
    ";"
   ]
  },
  {
   "cell_type": "markdown",
   "metadata": {},
   "source": [
    "上方圖示為每月份總運輸量的直條圖\n",
    "每個柱狀上方為總運輸人數的平均值\n"
   ]
  },
  {
   "cell_type": "code",
   "execution_count": 57,
   "metadata": {
    "scrolled": true
   },
   "outputs": [
    {
     "data": {
      "text/plain": [
       "0     1936615\n",
       "1     2046706\n",
       "2     2122548\n",
       "3     2034486\n",
       "4     2010690\n",
       "5     2020000\n",
       "6     1962774\n",
       "7     2043185\n",
       "8     2008376\n",
       "9     1993600\n",
       "10    2101132\n",
       "11    2247974\n",
       "Name: Average Transport Amount (people), dtype: int64"
      ]
     },
     "execution_count": 57,
     "metadata": {},
     "output_type": "execute_result"
    }
   ],
   "source": [
    "y = MRT_AVG['Average Transport Amount (people)']\n",
    "y"
   ]
  },
  {
   "cell_type": "markdown",
   "metadata": {},
   "source": [
    "上方為列出2017MRT_month.csv總運輸量的平均值"
   ]
  },
  {
   "cell_type": "code",
   "execution_count": 58,
   "metadata": {
    "scrolled": true
   },
   "outputs": [
    {
     "data": {
      "text/plain": [
       "0     18.3\n",
       "1     17.0\n",
       "2     18.2\n",
       "3     22.5\n",
       "4     25.6\n",
       "5     28.0\n",
       "6     30.3\n",
       "7     31.1\n",
       "8     29.6\n",
       "9     25.6\n",
       "10    22.5\n",
       "11    17.8\n",
       "Name: temperature, dtype: float64"
      ]
     },
     "execution_count": 58,
     "metadata": {},
     "output_type": "execute_result"
    }
   ],
   "source": [
    "x = MRT_AVG['temperature']\n",
    "x"
   ]
  },
  {
   "cell_type": "markdown",
   "metadata": {},
   "source": [
    "上方為列出2017MRT_month.csv的月均溫"
   ]
  },
  {
   "cell_type": "code",
   "execution_count": 60,
   "metadata": {
    "scrolled": true
   },
   "outputs": [
    {
     "data": {
      "text/plain": [
       "[<matplotlib.lines.Line2D at 0x19c036f0dd8>]"
      ]
     },
     "execution_count": 60,
     "metadata": {},
     "output_type": "execute_result"
    },
    {
     "data": {
      "image/png": "[encoded data removed]",
      "text/plain": [
       "<Figure size 432x288 with 1 Axes>"
      ]
     },
     "metadata": {},
     "output_type": "display_data"
    }
   ],
   "source": [
    "plt.plot(x,y, 'ro')"
   ]
  },
  {
   "cell_type": "markdown",
   "metadata": {},
   "source": [
    "上方為分布圖\n",
    "X軸為溫度\n",
    "Y軸為人次\n",
    "點點為月均溫上人次的分布"
   ]
  },
  {
   "cell_type": "code",
   "execution_count": 62,
   "metadata": {},
   "outputs": [
    {
     "data": {
      "text/plain": [
       "(-0.45266595627292816, 0.13949849326368682)"
      ]
     },
     "execution_count": 62,
     "metadata": {},
     "output_type": "execute_result"
    }
   ],
   "source": [
    "stats.pearsonr(x,y)"
   ]
  },
  {
   "cell_type": "markdown",
   "metadata": {},
   "source": [
    "結論:\n",
    "從圖可以看到溫度與總人數關聯性極低\n",
    "因此無法說明溫度為是否搭乘捷運主要原因。"
   ]
  }
 ],
 "metadata": {
  "kernelspec": {
   "display_name": "Python 3",
   "language": "python",
   "name": "python3"
  },
  "language_info": {
   "codemirror_mode": {
    "name": "ipython",
    "version": 3
   },
   "file_extension": ".py",
   "mimetype": "text/x-python",
   "name": "python",
   "nbconvert_exporter": "python",
   "pygments_lexer": "ipython3",
   "version": "3.6.5"
  }
 },
 "nbformat": 4,
 "nbformat_minor": 1
}
