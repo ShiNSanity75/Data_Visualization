{
 "cells": [
  {
   "cell_type": "markdown",
   "metadata": {},
   "source": [
    "# "
   ]
  },
  {
   "cell_type": "markdown",
   "metadata": {},
   "source": [
    "從富邦悍將的戰績可以看到，在面對統一獅隊時，出現了勝少敗多的情況，而且差距甚大。然而這一切的一切都只是偶然嗎？還是說這其中有什麼我們還沒發現到的真相？請讓我們繼續看下去。\n",
    "\n",
    "投手方面，將全年投球局數大於15局之投手的防禦率列出，可以發現大多數的富邦投手在面對統一打者的防禦率及每局被上壘率都偏高。\n",
    "*****\n",
    "註解小天使：\n",
    "\n",
    "圖中灰色為2018年防禦率/WHIP；藍色為2018年對戰桃猿防禦率/WHIP；黃色為2018年對戰中信防禦率/WHIP；橘色為2018年對戰統一防禦率/WHIP。\n",
    "\n",
    "防禦率又稱自責分率（ERA，earned run average）指投手平均每場球所失的自責分。\n",
    "\n",
    "每局被上壘率（WHIP，walks plus hits per inning pitched）用來衡量一個投手每局讓打者上壘的數量。\n"
   ]
  },
  {
   "cell_type": "markdown",
   "metadata": {},
   "source": [
    "![avatar](./graph/era.png)"
   ]
  }
 ],
 "metadata": {
  "kernelspec": {
   "display_name": "Python 3",
   "language": "python",
   "name": "python3"
  },
  "language_info": {
   "codemirror_mode": {
    "name": "ipython",
    "version": 3
   },
   "file_extension": ".py",
   "mimetype": "text/x-python",
   "name": "python",
   "nbconvert_exporter": "python",
   "pygments_lexer": "ipython3",
   "version": "3.6.5"
  }
 },
 "nbformat": 4,
 "nbformat_minor": 2
}
