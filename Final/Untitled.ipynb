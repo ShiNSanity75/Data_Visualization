{
 "cells": [
  {
   "cell_type": "markdown",
   "metadata": {},
   "source": [
    "# "
   ]
  },
  {
   "cell_type": "markdown",
   "metadata": {},
   "source": [
    "從富邦悍將的戰績可以看到，在面對統一獅隊時，出現了勝少敗多的情況，而且差距甚大，因此我麼希望能夠找出發生這件事情的原因。\n",
    "\n",
    "投手方面，將全年投球局數大於15局之投手的防禦率列出，可以發現大多數的富邦投手在面對統一打者的防禦率及每局被上壘率都偏高。"
   ]
  },
  {
   "cell_type": "markdown",
   "metadata": {},
   "source": [
    "![avatar](./graph/era.png)"
   ]
  }
 ],
 "metadata": {
  "kernelspec": {
   "display_name": "Python 3",
   "language": "python",
   "name": "python3"
  },
  "language_info": {
   "codemirror_mode": {
    "name": "ipython",
    "version": 3
   },
   "file_extension": ".py",
   "mimetype": "text/x-python",
   "name": "python",
   "nbconvert_exporter": "python",
   "pygments_lexer": "ipython3",
   "version": "3.6.5"
  }
 },
 "nbformat": 4,
 "nbformat_minor": 2
}
