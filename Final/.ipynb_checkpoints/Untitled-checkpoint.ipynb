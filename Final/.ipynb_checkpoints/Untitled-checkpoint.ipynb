{
 "cells": [
  {
   "cell_type": "markdown",
   "metadata": {},
   "source": [
    "# "
   ]
  },
  {
   "cell_type": "markdown",
   "metadata": {},
   "source": [
    "### 從富邦悍將的戰績可以看到，在面對統一獅隊時，出現了勝少敗多的情況，而且差距甚大。然而這一切的一切都只是偶然嗎？還是說這其中有什麼我們還沒發現到的真相？請讓我們繼續看下去。"
   ]
  },
  {
   "cell_type": "markdown",
   "metadata": {},
   "source": [
    "## 整體球員表現"
   ]
  },
  {
   "cell_type": "markdown",
   "metadata": {},
   "source": [
    "投手方面，將全年投球局數大於15局之投手的防禦率及每局被上壘率列出，可以發現大多數的富邦投手在面對統一打者的防禦率及每局被上壘率都偏高。\n",
    "******\n",
    "註解小天使：\n",
    "\n",
    "圖中灰色為2018年防禦率/WHIP；藍色為2018年對戰桃猿防禦率/WHIP；黃色為2018年對戰中信防禦率/WHIP；橘色為2018年對戰統一防禦率/WHIP。\n",
    "\n",
    "防禦率又稱自責分率（ERA，earned run average）指投手平均每場球所失的自責分。\n",
    "\n",
    "每局被上壘率（WHIP，walks plus hits per inning pitched）衡量投手「平均每局讓打者上壘數」，相較於傳統的防禦率，WHIP值更能顯現出投手對打者的壓制能力。\n",
    "\n",
    "http://twbsball.dils.tku.edu.tw/wiki/index.php/WHIP"
   ]
  },
  {
   "cell_type": "markdown",
   "metadata": {},
   "source": [
    "![era](./graph/era.png)"
   ]
  },
  {
   "cell_type": "markdown",
   "metadata": {},
   "source": [
    "![whip](./graph/whip.png)"
   ]
  },
  {
   "cell_type": "markdown",
   "metadata": {},
   "source": [
    "而打者方面，將全年打數於100次之打者的打擊率及上壘率列出。同樣的，大多數的打者在面對統一投手時有較低的打擊率與上壘率。與投手的數據擺在一起看，打擊率低且防禦率高，輸球的機率當然比較高。\n",
    "\n",
    "****\n",
    "註解小天使：\n",
    "\n",
    "圖中灰色為2018年打擊率/上壘率；藍色為2018年對戰桃猿打擊率/上壘率；黃色為2018年對戰中信打擊率/上壘率；橘色為2018年對戰統一打擊率/上壘率。\n",
    "\n",
    "打擊率(AVG，batting average)。擊球員上場擔任打擊任務時，擊出安打的或然率。\n",
    "\n",
    "上壘率(OBP，on base percentage)。擊球員上場擔任打擊任務時，獲得上壘機會的或然率。\n",
    "\n",
    "http://twbsball.dils.tku.edu.tw/wiki/index.php/%E4%B8%8A%E5%A3%98%E7%8E%87"
   ]
  },
  {
   "cell_type": "markdown",
   "metadata": {},
   "source": [
    "![avg](./graph/avg.png)"
   ]
  },
  {
   "cell_type": "markdown",
   "metadata": {},
   "source": [
    "![obp](./graph/obp.png)"
   ]
  },
  {
   "cell_type": "markdown",
   "metadata": {},
   "source": [
    "## 個別球員表現"
   ]
  },
  {
   "cell_type": "markdown",
   "metadata": {},
   "source": [
    "看完了富邦悍將整體球員的表現之後，我們大致上可以了解到富邦對統一獅時為何會贏少敗多。但是，俗話說得的好，「魔鬼藏在細節中」。是的，我們要找出這些「魔鬼」，就要從單一球員來看看，揪~竟是發生了什麼事。\n",
    "\n",
    "請讓我們再一次繼續看下去。\n",
    "*****"
   ]
  },
  {
   "cell_type": "markdown",
   "metadata": {},
   "source": [
    "### Mike Loree羅力"
   ]
  },
  {
   "cell_type": "markdown",
   "metadata": {},
   "source": [
    "![Mike_Loree](https://c1.staticflickr.com/5/4333/36325974731_572aab37f4_b.jpg)"
   ]
  },
  {
   "attachments": {},
   "cell_type": "markdown",
   "metadata": {},
   "source": [
    "身為富邦悍將的王牌投手，羅力的表現對富邦來說至關重要。在2017年球季，羅力面對統一獅繳出9勝2敗，對戰打擊率0.190且防禦率只有1.68鬼神一般的表現，有著「屠獅手」的稱號。只是2018年球季「屠獅手」風範不再，對戰打擊率上升至0.270且防禦率飆升至3.95，更只拿下了4勝4敗的成績。\n",
    "\n",
    "下圖2018年與2017年羅力對上統一獅打者的打擊率比較。橘色為統一獅球員2018年球季對羅力的打擊率，灰色則為2017年的，從圖可觀察到大部分統一獅的打者的打擊率都進步不少。\n",
    "\n",
    "這似乎也反映到飆升防禦率上？然而，我認為打擊率上升並不是防禦率上升的最最最大原因。從數據可看到，2018年羅力對統一獅的WHIP是三隊中最低的，然而防禦率卻是最高的，而且，羅力對上桃猿的被打擊率(0.293)高過統一獅，但羅力面對桃猿的防禦率(3.52)卻低於統一獅。因此，光從打擊率上升就來解釋防禦率飆升這件事似乎不太合理，所以一定有什麼更為關鍵的原因，導致羅力面對統一獅的防禦率上升。\n",
    "****"
   ]
  },
  {
   "cell_type": "markdown",
   "metadata": {},
   "source": [
    "![Loree_avg](./graph/Loree_avg.png)"
   ]
  },
  {
   "cell_type": "markdown",
   "metadata": {},
   "source": [
    "****\n",
    "你想的沒有錯，就是全壘打。\n",
    "\n",
    "在棒球場上，全壘打是得分最直接的方式，對投手來說也是殺傷力最大的。2018年球季羅力被打了15支全壘打，球中有10支是獅隊球員打的。因為全壘打多，安打數比桃猿(73)較少的獅隊(68)，打點卻多出了6分，可見全壘打的得分效率真的很大。"
   ]
  },
  {
   "cell_type": "markdown",
   "metadata": {},
   "source": [
    "![Loree_HR](./graph/Loree_HR.png)"
   ]
  },
  {
   "cell_type": "markdown",
   "metadata": {},
   "source": [
    "因為全壘打的效益大，把它跟一壘安打算在一起似乎太浪費它的身價。因此我們決定加大全壘打的權重，重新計算一個能夠衡量打者對投手產生威脅的指標。\n",
    "\n",
    "\n",
    "**公式如下： {(安打數-全壘打數)×3 + 全壘打×8 + 保送 + 故意四壞 + 觸身球}/{打數 + 保送 + 故意四壞 + 觸身球}**\n",
    "\n",
    "可以看到我們提高了全壘打的權重，因為打全壘打一定會得分。而其他安打的權重次高，有時一保送一安打就得分，有時候串聯三支安打還未必得分(相信我，棒球場上甚麼都有機會發生)。\n",
    "\n",
    "之所以把其他安打的權重設為3，是因為如果安打都是一壘安打，那我們假設權重是全壘打的四分之一。而大多數選手的一壘安打數占全體安打的二分之三，因此假設其他安打的權重為3。\n",
    "***\n",
    "有了衡量打者威脅力的公式，當然也要評估投手解決打者的能力。\n",
    "\n",
    "跟全壘打的概念一樣，三振是投手解決打者最直接的方法，完全依靠投手本身，因此我們稍稍提高它的權重。而其他出局方式則權重不變。\n",
    "\n",
    "**公式如下：{(打數-安打-三振) + 三振×3} / {打數 + 保送 + 故意四壞 + 觸身球}**\n",
    "****\n",
    "將獅隊打者2018年的數據與2017年的數據畫在同一張圖上，發現防禦指標的差距不是太大，然而整體的威脅指標卻上升(橘點往右移)。這也是我認為自責分率上升的原因。\n",
    "\n",
    "圖中的綠方點是整隊的平均值。深色的是18年的成績而淺色的是17年的成績。明顯看到18年的點比較17年的點，是往右下角移動的，也就是威脅指標上升而且防禦指標下降，這也合理解釋防禦率為什麼會上升。"
   ]
  },
  {
   "cell_type": "markdown",
   "metadata": {},
   "source": [
    "![Loree_U_TD](./graph/Loree_U_TD.png)"
   ]
  },
  {
   "cell_type": "code",
   "execution_count": null,
   "metadata": {},
   "outputs": [],
   "source": []
  }
 ],
 "metadata": {
  "kernelspec": {
   "display_name": "Python 3",
   "language": "python",
   "name": "python3"
  },
  "language_info": {
   "codemirror_mode": {
    "name": "ipython",
    "version": 3
   },
   "file_extension": ".py",
   "mimetype": "text/x-python",
   "name": "python",
   "nbconvert_exporter": "python",
   "pygments_lexer": "ipython3",
   "version": "3.6.5"
  }
 },
 "nbformat": 4,
 "nbformat_minor": 2
}
