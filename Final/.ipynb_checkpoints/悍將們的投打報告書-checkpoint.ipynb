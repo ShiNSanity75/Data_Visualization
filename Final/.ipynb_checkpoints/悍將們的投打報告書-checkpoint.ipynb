{
 "cells": [
  {
   "cell_type": "markdown",
   "metadata": {},
   "source": [
    "# 悍將們的投打報告書"
   ]
  },
  {
   "cell_type": "markdown",
   "metadata": {},
   "source": [
    "![FG](https://www.brandinlabs.com/wp-content/uploads/2017/01/2016123013224895.jpg)"
   ]
  },
  {
   "cell_type": "markdown",
   "metadata": {},
   "source": [
    "### 從富邦悍將的戰績可以看到，在面對統一獅隊時，出現了勝少敗多的情況，而且差距甚大。然而這一切的一切都只是偶然嗎？還是說這其中有什麼我們還沒發現到的真相？請讓我們繼續看下去。"
   ]
  },
  {
   "cell_type": "markdown",
   "metadata": {},
   "source": [
    "## 整體球員表現"
   ]
  },
  {
   "cell_type": "markdown",
   "metadata": {},
   "source": [
    "投手方面，將全年投球局數大於15局之投手的防禦率及每局被上壘率列出，可以發現大多數的富邦投手在面對統一打者的防禦率及每局被上壘率都偏高。\n",
    "******\n",
    "註解小天使：\n",
    "\n",
    "圖中灰色為2018年防禦率/WHIP；藍色為2018年對戰桃猿防禦率/WHIP；黃色為2018年對戰中信防禦率/WHIP；橘色為2018年對戰統一防禦率/WHIP。\n",
    "\n",
    "防禦率又稱自責分率（ERA，earned run average）指投手平均每場球所失的自責分。\n",
    "\n",
    "每局被上壘率（WHIP，walks plus hits per inning pitched）衡量投手「平均每局讓打者上壘數」，相較於傳統的防禦率，WHIP值更能顯現出投手對打者的壓制能力。\n",
    "\n",
    "http://twbsball.dils.tku.edu.tw/wiki/index.php/WHIP"
   ]
  },
  {
   "cell_type": "markdown",
   "metadata": {},
   "source": [
    "![era](./graph/era.png)"
   ]
  },
  {
   "cell_type": "markdown",
   "metadata": {},
   "source": [
    "![whip](./graph/whip.png)"
   ]
  },
  {
   "cell_type": "markdown",
   "metadata": {},
   "source": [
    "而打者方面，將全年打數於100次之打者的打擊率及上壘率列出。同樣的，大多數的打者在面對統一投手時有較低的打擊率與上壘率。與投手的數據擺在一起看，打擊率低且防禦率高，輸球的機率當然比較高。\n",
    "\n",
    "****\n",
    "註解小天使：\n",
    "\n",
    "圖中灰色為2018年打擊率/上壘率；藍色為2018年對戰桃猿打擊率/上壘率；黃色為2018年對戰中信打擊率/上壘率；橘色為2018年對戰統一打擊率/上壘率。\n",
    "\n",
    "打擊率(AVG，batting average)。擊球員上場擔任打擊任務時，擊出安打的或然率。\n",
    "\n",
    "上壘率(OBP，on base percentage)。擊球員上場擔任打擊任務時，獲得上壘機會的或然率。\n",
    "\n",
    "http://twbsball.dils.tku.edu.tw/wiki/index.php/%E4%B8%8A%E5%A3%98%E7%8E%87"
   ]
  },
  {
   "cell_type": "markdown",
   "metadata": {},
   "source": [
    "![avg](./graph/avg.png)"
   ]
  },
  {
   "cell_type": "markdown",
   "metadata": {},
   "source": [
    "![obp](./graph/obp.png)"
   ]
  },
  {
   "cell_type": "markdown",
   "metadata": {},
   "source": [
    "## 個別球員表現"
   ]
  },
  {
   "cell_type": "markdown",
   "metadata": {},
   "source": [
    "看完了富邦悍將整體球員的表現之後，我們大致上可以了解到富邦對統一獅時為何會贏少敗多。但是，俗話說得的好，「魔鬼藏在細節中」。是的，我們要找出這些「魔鬼」，就要從單一球員來看看，揪~竟是發生了什麼事。\n",
    "\n",
    "請讓我們再一次繼續看下去。\n",
    "*****"
   ]
  },
  {
   "cell_type": "markdown",
   "metadata": {},
   "source": [
    "### Mike Loree羅力"
   ]
  },
  {
   "cell_type": "markdown",
   "metadata": {},
   "source": [
    "![Mike_Loree](https://c1.staticflickr.com/5/4333/36325974731_572aab37f4_b.jpg)"
   ]
  },
  {
   "cell_type": "markdown",
   "metadata": {},
   "source": [
    "身為富邦悍將的王牌投手，羅力的表現對富邦來說至關重要。在2017年球季，羅力面對統一獅繳出9勝2敗，對戰打擊率0.190且防禦率只有1.68鬼神一般的表現，有著「屠獅手」的稱號。只是2018年球季「屠獅手」風範不再，對戰打擊率上升至0.270且防禦率飆升至3.95，更只拿下了4勝4敗的成績。\n",
    "\n",
    "下圖2018年與2017年羅力對上統一獅打者的打擊率比較。橘色為統一獅球員2018年球季對羅力的打擊率，灰色則為2017年的，從圖可觀察到大部分統一獅的打者的打擊率都進步不少。\n",
    "\n",
    "這似乎也反映到飆升防禦率上？然而，我認為打擊率上升並不是防禦率上升的最最最大原因。從數據可看到，2018年羅力對統一獅的WHIP是三隊中最低的，然而防禦率卻是最高的，而且，羅力對上桃猿的被打擊率(0.293)高過統一獅，但羅力面對桃猿的防禦率(3.52)卻低於統一獅。因此，光從打擊率上升就來解釋防禦率飆升這件事似乎不太合理，所以一定有什麼更為關鍵的原因，導致羅力面對統一獅的防禦率上升。\n",
    "*****"
   ]
  },
  {
   "cell_type": "markdown",
   "metadata": {},
   "source": [
    "![Loree_avg](./graph/Loree_avg.png)"
   ]
  },
  {
   "cell_type": "markdown",
   "metadata": {},
   "source": [
    "*****\n",
    "你想的沒有錯，就是全壘打。\n",
    "\n",
    "在棒球場上，全壘打是得分最直接的方式，對投手來說也是殺傷力最大的。2018年球季羅力被打了15支全壘打，球中有10支是獅隊球員打的。因為全壘打多，安打數比桃猿(73)較少的獅隊(68)，打點卻多出了6分，可見全壘打的得分效率真的很大。"
   ]
  },
  {
   "cell_type": "markdown",
   "metadata": {},
   "source": [
    "![Loree_HR](./graph/Loree_HR.png)"
   ]
  },
  {
   "cell_type": "markdown",
   "metadata": {},
   "source": [
    "因為全壘打的效益大，把它跟一壘安打算在一起似乎太浪費它的身價。因此我們決定加大全壘打的權重，重新計算一個能夠衡量打者對投手產生威脅的指標。\n",
    "\n",
    "\n",
    "**公式如下： {(安打數-全壘打數)×3 + 全壘打×8 + 保送 + 故意四壞 + 觸身球} / {打數 + 保送 + 故意四壞 + 觸身球}**\n",
    "\n",
    "可以看到我們提高了全壘打的權重，因為打全壘打一定會得分。而其他安打的權重次高，有時一保送一安打就得分，有時候串聯三支安打還未必得分(相信我，棒球場上甚麼都有機會發生)。\n",
    "\n",
    "之所以把其他安打的權重設為3，是因為如果安打都是一壘安打，那我們假設權重是全壘打的四分之一。而大多數選手的一壘安打數占全體安打的二分之三，因此假設其他安打的權重為3。\n",
    "****\n",
    "有了衡量打者威脅力的公式，當然也要評估投手解決打者的能力。\n",
    "\n",
    "跟全壘打的概念一樣，三振是投手解決打者最直接的方法，完全依靠投手本身，因此我們稍稍提高它的權重。而其他出局方式則權重不變。\n",
    "\n",
    "**公式如下：{(打數-安打-三振) + 三振×3} / {打數 + 保送 + 故意四壞 + 觸身球}**\n",
    "****\n",
    "將獅隊打者2018年的數據與2017年的數據畫在同一張圖上，發現防禦指標的差距不是太大，然而整體的威脅指標卻上升(橘點往右移)。這也是我認為自責分率上升的原因。\n",
    "\n",
    "圖中的綠方點是整隊的平均值。深色的是18年的成績而淺色的是17年的成績。明顯看到18年的點比較17年的點，是往右下角移動的，也就是威脅指標上升而且防禦指標下降，這也合理解釋防禦率為什麼會上升。"
   ]
  },
  {
   "cell_type": "markdown",
   "metadata": {},
   "source": [
    "![Loree_U_TD](./graph/Loree_U_TD.png)"
   ]
  },
  {
   "cell_type": "markdown",
   "metadata": {},
   "source": [
    "將三隊的威脅指標與防禦指標畫在同一張表上，且'x'符號代表全隊平均。\n",
    "\n",
    "咦？好像哪裡怪怪的？\n",
    "\n",
    "中信兄弟的的威脅指標怎麼這麼高？仔細看了數據發現有一位選手的威脅指標高達3.0，原來這位打者只面對羅力兩次，而兩次都打出安打，所以才會有這麼高的值。但是這個並不合理，只面對兩次，兩次都打出安打就認定他很擅長打者位投手的球？這似乎對投手不公平。同樣的，面對兩次，兩次都沒有上壘就認定投手將打者吃得死死的？這對打者也不公平。因此我們將打數小於5的選手刪除，避免極端值輸入以影響到結果。"
   ]
  },
  {
   "cell_type": "markdown",
   "metadata": {},
   "source": [
    "![Loree_TD](./graph/Loree_TD.png)"
   ]
  },
  {
   "cell_type": "markdown",
   "metadata": {},
   "source": [
    "將極端選手刪除後，所得到的結果就符合羅力面對三隊的防禦率。\n",
    "\n",
    "桃猿：3.52。中信：2.30。統一：3.95。"
   ]
  },
  {
   "cell_type": "markdown",
   "metadata": {},
   "source": [
    "![Loree_TD_NEW](./graph/Loree_TD_NEW.png)\n",
    "****"
   ]
  },
  {
   "cell_type": "markdown",
   "metadata": {},
   "source": [
    "### 胡金龍"
   ]
  },
  {
   "cell_type": "markdown",
   "metadata": {},
   "source": [
    "![胡金龍](https://c1.staticflickr.com/1/870/41051436911_c8f4a09dea_c.jpg)"
   ]
  },
  {
   "cell_type": "markdown",
   "metadata": {},
   "source": [
    "身為富邦悍將陣中最為穩定的選手，在2018年球季有著0.374的高打擊率。但是在面對統一獅卻只有0.317的成績，也許這個成績放在其他球員上並不差，但是相較於胡金龍面對桃猿的0.458打擊率來說，其實差距很大。所以，讓我們來看看這次數據又會告訴我們什麼呢？\n",
    "****\n",
    "將與胡金龍對戰打數超過5次的投手篩選出來，並且取出打擊率前十名與倒數十名出來比較。"
   ]
  },
  {
   "cell_type": "markdown",
   "metadata": {},
   "source": [
    "![HU_AVG](./graph/HU_AVG.png)"
   ]
  },
  {
   "cell_type": "markdown",
   "metadata": {},
   "source": [
    "可以看出打擊率前十名與倒數十名中，統一獅選手的比例(不要問我為什麼前十名有13個人，因為第十名有好幾個)。\n",
    "\n",
    "詳細的去看這些統一獅投手，其中對戰打擊率高的投手，也就那兩位選手，發現他們都是後援投手，也就是對戰次數較少。而對戰打擊率低的投手，4位中有3位是先發投手，也就是對戰次數較多。戰次數較多的打擊率低而戰次數較少的打擊率高，這樣打擊率能高才怪。我們看看桃猿的情況就正好相反，所以打擊率高也是情有可原。"
   ]
  },
  {
   "cell_type": "markdown",
   "metadata": {},
   "source": [
    "![HU_AVG_P](./graph/HU_AVG_P.png)"
   ]
  },
  {
   "cell_type": "markdown",
   "metadata": {},
   "source": [
    "****\n",
    "看完了打擊率的分析結果，我們是不是應該要去看看這些對戰打擊率高的有什麼共通點，而對戰打擊率低的有什麼讓胡金龍表現不好的因素呢？\n",
    "\n",
    "那就先從出局方式開始吧。\n",
    "\n",
    "下圖是胡金龍出局方式比例圖。藍色代表飛球出局，綠色代表滾地出局，紅色則是三振出局。可以看到面對對戰打擊率高的投手時，以飛球出局居多，而對戰打擊率低的投手時，則是以滾地球出局居多。"
   ]
  },
  {
   "cell_type": "markdown",
   "metadata": {},
   "source": [
    "![HU_AVG_H](./graph/HU_AVG_H.png)"
   ]
  },
  {
   "cell_type": "markdown",
   "metadata": {},
   "source": [
    "![HU_AVG_L](./graph/HU_AVG_L.png)"
   ]
  },
  {
   "cell_type": "markdown",
   "metadata": {},
   "source": [
    "****\n",
    "你說這樣誰看的出來啊？那麼下面這張圖可能會看得更清楚。"
   ]
  },
  {
   "cell_type": "markdown",
   "metadata": {},
   "source": [
    "![HU_AVG_A](./graph/HU_AVG_A.png)"
   ]
  },
  {
   "cell_type": "markdown",
   "metadata": {},
   "source": [
    "我說這個出局的方式跟投手本身有關係，不是胡金龍一個人的問題啊。所以我們看看這些投手自己的滾飛比為何？\n",
    "****\n",
    "註解小天使又來啦：\n",
    "\n",
    "滾飛比(GO/AO，Ground outs/Fly outs)。投手製造之出局數中，使擊球員擊出滾地球及飛球的比例。\n",
    "\n",
    "滾地球型投手是以滾飛比高於1.15 的投手。\n",
    "\n",
    "飛球型投手是以滾飛比低於0.93 的投手。\n",
    "\n",
    "中性投手是以滾飛比介於0.93 ~ 1.15的投手。\n",
    "\n",
    "http://twbsball.dils.tku.edu.tw/wiki/index.php/%E6%BB%BE%E9%A3%9B%E6%AF%94\n",
    "https://zh.wikipedia.org/wiki/%E6%BB%BE%E5%9C%B0%E7%90%83%E5%9E%8B%E6%8A%95%E6%89%8B\n",
    "****"
   ]
  },
  {
   "cell_type": "markdown",
   "metadata": {},
   "source": [
    "![HU_P](./graph/HU_P.png)"
   ]
  },
  {
   "cell_type": "markdown",
   "metadata": {},
   "source": [
    "胡金龍本身的出局滾飛比是1.242，也就是滾地球出局較多。面對滾地球型的選手可能會較不順手，所以打擊率到數十名的滾地球投手比率高達0.5似乎也是一個合理的結果。\n",
    "\n",
    "而這些投手擅長的球路中，以滑球最多，接著是變速球及曲球。\n",
    "****\n",
    "\n",
    "大家都說球是圓的，勝負輸贏很難說。但是有時候數據會說話，利用科學的方式，找出其中的關鍵問題，也許真的能夠改變輸贏的結果。\n",
    "\n",
    "感謝大家聽完我的非專業報告，也謝謝我的好夥伴阿嘎。期許在未來悍將們能夠超越自我，取得佳績! All Grit!"
   ]
  },
  {
   "cell_type": "markdown",
   "metadata": {},
   "source": [
    "![FG](./graph/fg.png)"
   ]
  },
  {
   "cell_type": "code",
   "execution_count": null,
   "metadata": {},
   "outputs": [],
   "source": []
  }
 ],
 "metadata": {
  "kernelspec": {
   "display_name": "Python 3",
   "language": "python",
   "name": "python3"
  },
  "language_info": {
   "codemirror_mode": {
    "name": "ipython",
    "version": 3
   },
   "file_extension": ".py",
   "mimetype": "text/x-python",
   "name": "python",
   "nbconvert_exporter": "python",
   "pygments_lexer": "ipython3",
   "version": "3.6.5"
  }
 },
 "nbformat": 4,
 "nbformat_minor": 2
}
